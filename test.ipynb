{
 "cells": [
  {
   "cell_type": "code",
   "execution_count": 1,
   "metadata": {},
   "outputs": [],
   "source": [
    "from dataloader import *\n",
    "import numpy as np"
   ]
  },
  {
   "cell_type": "code",
   "execution_count": 2,
   "metadata": {},
   "outputs": [],
   "source": [
    "import torchvision.transforms.functional as F"
   ]
  },
  {
   "cell_type": "code",
   "execution_count": 3,
   "metadata": {},
   "outputs": [],
   "source": [
    "show = lambda x:F.to_pil_image(x[:,0,:])"
   ]
  },
  {
   "cell_type": "code",
   "execution_count": 4,
   "metadata": {},
   "outputs": [
    {
     "name": "stdout",
     "output_type": "stream",
     "text": [
      "===>Training Data : 9537\n",
      "===>Testing Data : 3783\n"
     ]
    }
   ],
   "source": [
    "dataloader = VideoDataLoader(batch_size = 10,\n",
    "                                        num_workers = 4,\n",
    "                                        sequence_step = 10,\n",
    "                                        pin_memory = True,\n",
    "                                        resize = 256)\n",
    "train, test = dataloader(batch_size = 10,\n",
    "                                        num_workers = 4,\n",
    "                                        sequence_step = 10,\n",
    "                                        pin_memory = True,\n",
    "                                        resize = 256)"
   ]
  },
  {
   "cell_type": "code",
   "execution_count": 5,
   "metadata": {},
   "outputs": [
    {
     "name": "stdout",
     "output_type": "stream",
     "text": [
      "Percent  : 0.0\n",
      "Percent  : 1.0482180293501049\n",
      "Percent  : 2.0964360587002098\n",
      "Percent  : 3.1446540880503147\n",
      "Percent  : 4.1928721174004195\n",
      "Percent  : 5.2410901467505235\n",
      "Percent  : 6.289308176100629\n",
      "Percent  : 7.337526205450734\n",
      "Percent  : 8.385744234800839\n",
      "Percent  : 9.433962264150944\n",
      "Percent  : 10.482180293501047\n",
      "Percent  : 11.530398322851152\n",
      "Percent  : 12.578616352201259\n",
      "Percent  : 13.626834381551362\n",
      "Percent  : 14.675052410901468\n",
      "Percent  : 15.723270440251572\n",
      "Percent  : 16.771488469601678\n",
      "Percent  : 17.81970649895178\n",
      "Percent  : 18.867924528301888\n",
      "Percent  : 19.91614255765199\n",
      "Percent  : 20.964360587002094\n",
      "Percent  : 22.0125786163522\n",
      "Percent  : 23.060796645702304\n",
      "Percent  : 24.10901467505241\n",
      "Percent  : 25.157232704402517\n",
      "Percent  : 26.20545073375262\n",
      "Percent  : 27.253668763102723\n",
      "Percent  : 28.30188679245283\n",
      "Percent  : 29.350104821802937\n",
      "Percent  : 30.398322851153043\n",
      "Percent  : 31.446540880503143\n",
      "Percent  : 32.494758909853246\n",
      "Percent  : 33.542976939203356\n",
      "Percent  : 34.59119496855346\n",
      "Percent  : 35.63941299790356\n",
      "Percent  : 36.68763102725367\n",
      "Percent  : 37.735849056603776\n",
      "Percent  : 38.78406708595388\n",
      "Percent  : 39.83228511530398\n",
      "Percent  : 40.88050314465409\n",
      "Percent  : 41.92872117400419\n",
      "Percent  : 42.9769392033543\n",
      "Percent  : 44.0251572327044\n",
      "Percent  : 45.073375262054505\n",
      "Percent  : 46.12159329140461\n",
      "Percent  : 47.16981132075472\n",
      "Percent  : 48.21802935010482\n",
      "Percent  : 49.266247379454924\n",
      "Percent  : 50.314465408805034\n",
      "Percent  : 51.36268343815513\n",
      "Percent  : 52.41090146750524\n",
      "Percent  : 53.459119496855344\n",
      "Percent  : 54.50733752620545\n",
      "Percent  : 55.55555555555556\n",
      "Percent  : 56.60377358490566\n",
      "Percent  : 57.65199161425576\n",
      "Percent  : 58.700209643605874\n",
      "Percent  : 59.74842767295597\n",
      "Percent  : 60.79664570230609\n",
      "Percent  : 61.84486373165618\n",
      "Percent  : 62.893081761006286\n",
      "Percent  : 63.941299790356396\n",
      "Percent  : 64.98951781970649\n",
      "Percent  : 66.0377358490566\n",
      "Percent  : 67.08595387840671\n",
      "Percent  : 68.13417190775681\n",
      "Percent  : 69.18238993710692\n",
      "Percent  : 70.23060796645703\n",
      "Percent  : 71.27882599580713\n",
      "Percent  : 72.32704402515722\n",
      "Percent  : 73.37526205450735\n",
      "Percent  : 74.42348008385744\n",
      "Percent  : 75.47169811320755\n",
      "Percent  : 76.51991614255765\n",
      "Percent  : 77.56813417190776\n",
      "Percent  : 78.61635220125787\n",
      "Percent  : 79.66457023060796\n",
      "Percent  : 80.71278825995807\n",
      "Percent  : 81.76100628930818\n",
      "Percent  : 82.80922431865828\n",
      "Percent  : 83.85744234800838\n",
      "Percent  : 84.90566037735849\n",
      "Percent  : 85.9538784067086\n",
      "Percent  : 87.0020964360587\n",
      "Percent  : 88.0503144654088\n",
      "Percent  : 89.09853249475891\n",
      "Percent  : 90.14675052410901\n",
      "Percent  : 91.19496855345912\n",
      "Percent  : 92.24318658280922\n",
      "Percent  : 93.29140461215934\n",
      "Percent  : 94.33962264150944\n",
      "Percent  : 95.38784067085953\n",
      "Percent  : 96.43605870020964\n",
      "Percent  : 97.48427672955975\n",
      "Percent  : 98.53249475890985\n",
      "Percent  : 99.58071278825996\n"
     ]
    }
   ],
   "source": [
    "for i,data in enumerate(train):\n",
    "    if i%10 == 0:\n",
    "        print(\"Percent  : {}\".format((i/954) * 100))"
   ]
  },
  {
   "cell_type": "code",
   "execution_count": null,
   "metadata": {},
   "outputs": [],
   "source": [
    "from utils import *"
   ]
  },
  {
   "cell_type": "code",
   "execution_count": null,
   "metadata": {},
   "outputs": [],
   "source": [
    "mapper"
   ]
  },
  {
   "cell_type": "code",
   "execution_count": null,
   "metadata": {},
   "outputs": [],
   "source": [
    "len(train)"
   ]
  },
  {
   "cell_type": "code",
   "execution_count": null,
   "metadata": {},
   "outputs": [],
   "source": [
    "for i,data in enumerate(train):\n",
    "    if i%10 == 0:\n",
    "        print(\"Percent  : {}\".format(i//954))"
   ]
  },
  {
   "cell_type": "code",
   "execution_count": null,
   "metadata": {},
   "outputs": [],
   "source": [
    "data.frames"
   ]
  },
  {
   "cell_type": "code",
   "execution_count": null,
   "metadata": {},
   "outputs": [],
   "source": [
    "x = data.frames"
   ]
  },
  {
   "cell_type": "code",
   "execution_count": null,
   "metadata": {},
   "outputs": [],
   "source": [
    "y = data.label"
   ]
  },
  {
   "cell_type": "code",
   "execution_count": null,
   "metadata": {},
   "outputs": [],
   "source": [
    "x.shape"
   ]
  },
  {
   "cell_type": "code",
   "execution_count": null,
   "metadata": {},
   "outputs": [],
   "source": [
    "x.shape"
   ]
  },
  {
   "cell_type": "code",
   "execution_count": null,
   "metadata": {},
   "outputs": [],
   "source": [
    "im = []\n",
    "for i in range(10):\n",
    "    for xi in x[:,i,:]:\n",
    "      im.append(xi)  \n",
    "im = iter(im)"
   ]
  },
  {
   "cell_type": "code",
   "execution_count": null,
   "metadata": {},
   "outputs": [],
   "source": [
    "show(x[:,9,:][1])"
   ]
  },
  {
   "cell_type": "code",
   "execution_count": null,
   "metadata": {},
   "outputs": [],
   "source": [
    "im = []\n",
    "for xi in x[:,1,:]:\n",
    "    im.append(xi)\n",
    "im = iter(im)"
   ]
  },
  {
   "cell_type": "code",
   "execution_count": null,
   "metadata": {},
   "outputs": [],
   "source": [
    "show(next(im))"
   ]
  },
  {
   "cell_type": "code",
   "execution_count": null,
   "metadata": {},
   "outputs": [],
   "source": [
    "x[:,0,:].shape"
   ]
  },
  {
   "cell_type": "code",
   "execution_count": null,
   "metadata": {},
   "outputs": [],
   "source": []
  },
  {
   "cell_type": "code",
   "execution_count": null,
   "metadata": {},
   "outputs": [],
   "source": []
  },
  {
   "cell_type": "code",
   "execution_count": null,
   "metadata": {},
   "outputs": [],
   "source": []
  },
  {
   "cell_type": "code",
   "execution_count": null,
   "metadata": {},
   "outputs": [],
   "source": []
  }
 ],
 "metadata": {
  "kernelspec": {
   "display_name": "attention",
   "language": "python",
   "name": "attention"
  },
  "language_info": {
   "codemirror_mode": {
    "name": "ipython",
    "version": 3
   },
   "file_extension": ".py",
   "mimetype": "text/x-python",
   "name": "python",
   "nbconvert_exporter": "python",
   "pygments_lexer": "ipython3",
   "version": "3.7.3"
  }
 },
 "nbformat": 4,
 "nbformat_minor": 2
}
